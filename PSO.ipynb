{
  "nbformat": 4,
  "nbformat_minor": 0,
  "metadata": {
    "colab": {
      "name": "PSO.ipynb",
      "provenance": [],
      "authorship_tag": "ABX9TyNKU5i9LDn2jADWi8+H/2ob",
      "include_colab_link": true
    },
    "kernelspec": {
      "name": "python3",
      "display_name": "Python 3"
    }
  },
  "cells": [
    {
      "cell_type": "markdown",
      "metadata": {
        "id": "view-in-github",
        "colab_type": "text"
      },
      "source": [
        "<a href=\"https://colab.research.google.com/github/Mittra19/MachineLearningPub/blob/master/PSO.ipynb\" target=\"_parent\"><img src=\"https://colab.research.google.com/assets/colab-badge.svg\" alt=\"Open In Colab\"/></a>"
      ]
    },
    {
      "cell_type": "code",
      "metadata": {
        "id": "S6WdDexkqlQ0",
        "colab_type": "code",
        "colab": {}
      },
      "source": [
        "from random import *\n",
        "import math"
      ],
      "execution_count": 0,
      "outputs": []
    },
    {
      "cell_type": "code",
      "metadata": {
        "id": "kqV89QdUtI1q",
        "colab_type": "code",
        "colab": {}
      },
      "source": [
        "class Particle:\n",
        "  c1 = 0\n",
        "  c2 = 0\n",
        "  dimen = 0\n",
        "  p_best = []\n",
        "  velocity = [];\n",
        "  position = []\n",
        "  def __init__(self, dimen, c1, c2):\n",
        "    random_variables = []\n",
        "    random_velocity = []\n",
        "    self.dimen = dimen\n",
        "    self.c1 = c1\n",
        "    self.c2 = c2\n",
        "    for i in range(self.dimen):\n",
        "      random_variables.append(uniform(-100.0, 100.0))\n",
        "      random_velocity.append(uniform(-200.0, 200.0))\n",
        "    self.velocity = random_velocity\n",
        "    self.position = random_variables\n",
        "    self.p_best = random_variables\n",
        "\n",
        "  def UpdateVelocity(self):\n",
        "    for i in range(self.dimen):\n",
        "      self.velocity[i] = 0.1*self.velocity[i] + c2*uniform(0, 1)*(g_best.position[i] - self.position[i])  + c1*uniform(0, 1)*(self.p_best[i] - self.position[i]) \n",
        "\n",
        "  def UpdatePosition(self):\n",
        "    for i in range(self.dimen):\n",
        "      self.position[i] = self.position[i] + self.velocity[i]\n"
      ],
      "execution_count": 0,
      "outputs": []
    },
    {
      "cell_type": "code",
      "metadata": {
        "id": "MOn4IsTXAAgX",
        "colab_type": "code",
        "colab": {}
      },
      "source": [
        "def func(lst):\n",
        "  sum = 0\n",
        "  for i in lst:\n",
        "    sum = sum + math.pow(i, 4)\n",
        "  return sum"
      ],
      "execution_count": 0,
      "outputs": []
    },
    {
      "cell_type": "code",
      "metadata": {
        "id": "QNk1VCkgydG-",
        "colab_type": "code",
        "outputId": "8dce2862-730a-4711-ceb7-99f3b6b73176",
        "colab": {
          "base_uri": "https://localhost:8080/",
          "height": 34
        }
      },
      "source": [
        "no_of_vars = 2\n",
        "c1 = 2\n",
        "c2 = 2\n",
        "no_of_particles = 10\n",
        "no_of_iter = 200\n",
        "error = 0.000001\n",
        "particles = []\n",
        "for i in range(no_of_particles):\n",
        "  p = Particle(no_of_vars, c1, c2)\n",
        "  particles.append(p)\n",
        "\n",
        "g_best = particles[0]\n",
        "for i in particles:\n",
        "  if func(i.p_best)<= func(g_best.p_best):\n",
        "    g_best = i\n",
        "\n",
        "for i in range(len(particles)):\n",
        "  #print(\"particle \"+str(i)+\" best position: (\"+ str(particles[i].p_best[0])+\", \"+str(particles[i].p_best[1])+\")\")\n",
        "  if func(particles[i].p_best)<func(g_best.p_best):\n",
        "    g_best = particles[i]\n",
        "    #print(g_best.position)\n",
        "  \n",
        "for i in range(no_of_iter):\n",
        "  for j in range(len(particles)):\n",
        "    #print(\"particle \"+str(j)+\" position: (\"+ str(particles[j].position[0])+\", \"+str(particles[j].position[1])+\")\")\n",
        "    if func(particles[j].position)<func(particles[j].p_best):\n",
        "      particles[j].p_best = particles[j].position\n",
        "\n",
        "\n",
        "    if func(particles[j].p_best)<func(g_best.position):\n",
        "      #print(\"Entered gbest\")\n",
        "      g_best = particles[j]\n",
        "      #print(g_best.p_best)\n",
        "  for j in range(len(particles)):\n",
        "    particles[j].UpdateVelocity()\n",
        "    particles[j].UpdatePosition()\n",
        "  if func(g_best.p_best) <= error:\n",
        "    print(\"Break\")\n",
        "    break"
      ],
      "execution_count": 35,
      "outputs": [
        {
          "output_type": "stream",
          "text": [
            "Break\n"
          ],
          "name": "stdout"
        }
      ]
    },
    {
      "cell_type": "code",
      "metadata": {
        "id": "jLGOoEwS9rjQ",
        "colab_type": "code",
        "outputId": "7fe0f95a-9252-483f-eeee-2154685ad291",
        "colab": {
          "base_uri": "https://localhost:8080/",
          "height": 34
        }
      },
      "source": [
        "print(g_best.position)"
      ],
      "execution_count": 36,
      "outputs": [
        {
          "output_type": "stream",
          "text": [
            "[0.02211775557386194, -0.008389495017320094]\n"
          ],
          "name": "stdout"
        }
      ]
    },
    {
      "cell_type": "code",
      "metadata": {
        "id": "8M6zbOkQ93Zv",
        "colab_type": "code",
        "colab": {}
      },
      "source": [
        ""
      ],
      "execution_count": 0,
      "outputs": []
    }
  ]
}