{
  "nbformat": 4,
  "nbformat_minor": 0,
  "metadata": {
    "colab": {
      "name": "SeverityPrediction.ipynb",
      "provenance": [],
      "toc_visible": true,
      "authorship_tag": "ABX9TyOnkVrAKJkBfjuj/Njuw3fC",
      "include_colab_link": true
    },
    "kernelspec": {
      "name": "python3",
      "display_name": "Python 3"
    }
  },
  "cells": [
    {
      "cell_type": "markdown",
      "metadata": {
        "id": "view-in-github",
        "colab_type": "text"
      },
      "source": [
        "<a href=\"https://colab.research.google.com/github/Mittra19/MachineLearningPub/blob/master/SeverityPrediction.ipynb\" target=\"_parent\"><img src=\"https://colab.research.google.com/assets/colab-badge.svg\" alt=\"Open In Colab\"/></a>"
      ]
    },
    {
      "cell_type": "markdown",
      "metadata": {
        "id": "ccBl6HiPUTyo",
        "colab_type": "text"
      },
      "source": [
        "#Libraries"
      ]
    },
    {
      "cell_type": "code",
      "metadata": {
        "id": "xOtU2dgBFD1J",
        "colab_type": "code",
        "colab": {}
      },
      "source": [
        "import numpy as np\n",
        "import pandas as pd\n",
        "from sklearn.preprocessing import StandardScaler\n",
        "from sklearn.linear_model import *\n",
        "from sklearn.neighbors import *\n",
        "from sklearn.model_selection import *\n",
        "from sklearn.metrics import *\n",
        "from sklearn.svm import SVC\n",
        "from sklearn.tree import DecisionTreeClassifier\n",
        "from pandas import DataFrame \n",
        "from sklearn.ensemble import RandomForestClassifier\n",
        "from sklearn.neural_network import MLPClassifier\n",
        "from xgboost import XGBClassifier \n",
        "from xgboost import plot_importance"
      ],
      "execution_count": 0,
      "outputs": []
    },
    {
      "cell_type": "code",
      "metadata": {
        "id": "NNh1rk9xFhQE",
        "colab_type": "code",
        "colab": {}
      },
      "source": [
        "import tensorflow as tf\n",
        "from tensorflow import keras\n",
        "from keras.layers import *"
      ],
      "execution_count": 0,
      "outputs": []
    },
    {
      "cell_type": "markdown",
      "metadata": {
        "id": "323IrNvdkOLv",
        "colab_type": "text"
      },
      "source": [
        "# Data Preprocessing"
      ]
    },
    {
      "cell_type": "code",
      "metadata": {
        "id": "QK_EUcKuNZFz",
        "colab_type": "code",
        "outputId": "4ffec4e7-7b2a-42aa-b2d6-e306892042ae",
        "colab": {
          "base_uri": "https://localhost:8080/",
          "height": 34
        }
      },
      "source": [
        "from google.colab import drive\n",
        "drive.mount('/content/drive')"
      ],
      "execution_count": 31,
      "outputs": [
        {
          "output_type": "stream",
          "text": [
            "Drive already mounted at /content/drive; to attempt to forcibly remount, call drive.mount(\"/content/drive\", force_remount=True).\n"
          ],
          "name": "stdout"
        }
      ]
    },
    {
      "cell_type": "code",
      "metadata": {
        "id": "-X15nLVPFnvK",
        "colab_type": "code",
        "colab": {}
      },
      "source": [
        ""
      ],
      "execution_count": 0,
      "outputs": []
    },
    {
      "cell_type": "code",
      "metadata": {
        "id": "LnPO--SdOEwQ",
        "colab_type": "code",
        "colab": {}
      },
      "source": [
        "df_train = pd.read_csv('/content/drive/My Drive/Colab Notebooks/How severe can an airplane accident Competition/train.csv')\n",
        "\n",
        "df_test = pd.read_csv('/content/drive/My Drive/Colab Notebooks/How severe can an airplane accident Competition/test.csv')"
      ],
      "execution_count": 0,
      "outputs": []
    },
    {
      "cell_type": "code",
      "metadata": {
        "id": "F-vkJjNt5v-C",
        "colab_type": "code",
        "outputId": "b2f620ca-3c15-49ae-d167-4f4f23390a10",
        "colab": {
          "base_uri": "https://localhost:8080/",
          "height": 54
        }
      },
      "source": [
        "damageNinjury_type_mapping = {label: idx for idx, label in enumerate(np.unique(df_train['Severity']))}\n",
        "print(damageNinjury_type_mapping)"
      ],
      "execution_count": 33,
      "outputs": [
        {
          "output_type": "stream",
          "text": [
            "{'Highly_Fatal_And_Damaging': 0, 'Minor_Damage_And_Injuries': 1, 'Significant_Damage_And_Fatalities': 2, 'Significant_Damage_And_Serious_Injuries': 3}\n"
          ],
          "name": "stdout"
        }
      ]
    },
    {
      "cell_type": "code",
      "metadata": {
        "id": "990V7CI5dSGr",
        "colab_type": "code",
        "colab": {}
      },
      "source": [
        "column_fin=['Accident_ID', 'Safety_Score', 'Days_Since_Inspection','Total_Safety_Complaints', 'Control_Metric', 'Turbulence_In_gforces', 'Cabin_Temperature', 'Accident_Type_Code', 'Max_Elevation', 'Violations', 'Adverse_Weather_Metric', 'Severity'] \n",
        "   \n",
        "# create the new index for columns \n",
        "df_train_fin = df_train.reindex(column_fin, axis='columns')"
      ],
      "execution_count": 0,
      "outputs": []
    },
    {
      "cell_type": "code",
      "metadata": {
        "id": "ya7m-TZ7lk-J",
        "colab_type": "code",
        "colab": {}
      },
      "source": [
        "column_fin_test = ['Accident_ID', 'Safety_Score', 'Days_Since_Inspection','Total_Safety_Complaints', 'Control_Metric', 'Turbulence_In_gforces', 'Cabin_Temperature', 'Accident_Type_Code', 'Max_Elevation', 'Violations', 'Adverse_Weather_Metric']\n",
        "# create the new index for columns \n",
        "df_test_fin = df_test.reindex(column_fin_test, axis='columns')"
      ],
      "execution_count": 0,
      "outputs": []
    },
    {
      "cell_type": "code",
      "metadata": {
        "id": "obrQVm4HGOBq",
        "colab_type": "code",
        "colab": {}
      },
      "source": [
        "\n"
      ],
      "execution_count": 0,
      "outputs": []
    },
    {
      "cell_type": "markdown",
      "metadata": {
        "id": "wRA22wktkDqb",
        "colab_type": "text"
      },
      "source": [
        "# Training Set and Testing Set Building"
      ]
    },
    {
      "cell_type": "code",
      "metadata": {
        "id": "7pQpwuztAyjb",
        "colab_type": "code",
        "colab": {}
      },
      "source": [
        "X, y = df_train_fin.iloc[:, 0:11].values, df_train_fin.iloc[:, 11].values"
      ],
      "execution_count": 0,
      "outputs": []
    },
    {
      "cell_type": "code",
      "metadata": {
        "id": "mUReynklmTmR",
        "colab_type": "code",
        "colab": {}
      },
      "source": [
        "sc = StandardScaler()\n",
        "X = sc.fit_transform(X)"
      ],
      "execution_count": 0,
      "outputs": []
    },
    {
      "cell_type": "code",
      "metadata": {
        "id": "-rRfsRwYBXQz",
        "colab_type": "code",
        "colab": {}
      },
      "source": [
        "X_train_org, X_train_val_org, y_train, y_train_val = train_test_split( X, y, test_size=0.33, random_state=42)"
      ],
      "execution_count": 0,
      "outputs": []
    },
    {
      "cell_type": "code",
      "metadata": {
        "id": "GwOO9rOs8Xxh",
        "colab_type": "code",
        "colab": {}
      },
      "source": [
        "X_train, X_train_val = X_train_org[:, 1:11], X_train_val_org[:, 1:11]"
      ],
      "execution_count": 0,
      "outputs": []
    },
    {
      "cell_type": "markdown",
      "metadata": {
        "id": "GlvcwUW9PhxC",
        "colab_type": "text"
      },
      "source": [
        "#XGBoost"
      ]
    },
    {
      "cell_type": "code",
      "metadata": {
        "id": "6iIlYTJZPlPI",
        "colab_type": "code",
        "outputId": "38fb9f76-4d36-4d43-8ec8-76c06b0ab88b",
        "colab": {
          "base_uri": "https://localhost:8080/",
          "height": 136
        }
      },
      "source": [
        "clf_xgb = XGBClassifier(learning_rate=0.001, max_depth=20, random_state=1, booster='gbtree', n_estimators=100)\n",
        "clf_xgb.fit(X_train, y_train)"
      ],
      "execution_count": 41,
      "outputs": [
        {
          "output_type": "execute_result",
          "data": {
            "text/plain": [
              "XGBClassifier(base_score=0.5, booster='gbtree', colsample_bylevel=1,\n",
              "              colsample_bynode=1, colsample_bytree=1, gamma=0,\n",
              "              learning_rate=0.001, max_delta_step=0, max_depth=20,\n",
              "              min_child_weight=1, missing=None, n_estimators=100, n_jobs=1,\n",
              "              nthread=None, objective='multi:softprob', random_state=1,\n",
              "              reg_alpha=0, reg_lambda=1, scale_pos_weight=1, seed=None,\n",
              "              silent=None, subsample=1, verbosity=1)"
            ]
          },
          "metadata": {
            "tags": []
          },
          "execution_count": 41
        }
      ]
    },
    {
      "cell_type": "code",
      "metadata": {
        "id": "ArU79uNTQPBa",
        "colab_type": "code",
        "colab": {}
      },
      "source": [
        "y_pred_val_xgb = clf_xgb.predict(X_train_val)"
      ],
      "execution_count": 0,
      "outputs": []
    },
    {
      "cell_type": "code",
      "metadata": {
        "id": "V16c5GNVQO-e",
        "colab_type": "code",
        "outputId": "eec11782-9e66-43b9-8105-406f30249dc2",
        "colab": {
          "base_uri": "https://localhost:8080/",
          "height": 34
        }
      },
      "source": [
        "print(f1_score(y_true= y_train_val, y_pred= y_pred_val_xgb, average= 'weighted'))"
      ],
      "execution_count": 43,
      "outputs": [
        {
          "output_type": "stream",
          "text": [
            "0.9180228653852593\n"
          ],
          "name": "stdout"
        }
      ]
    },
    {
      "cell_type": "code",
      "metadata": {
        "id": "BLFf_lFpQO74",
        "colab_type": "code",
        "outputId": "5d01ecfb-d4b1-4fb7-87f5-8cebd074738b",
        "colab": {
          "base_uri": "https://localhost:8080/",
          "height": 312
        }
      },
      "source": [
        "plot_importance(clf_xgb)"
      ],
      "execution_count": 44,
      "outputs": [
        {
          "output_type": "execute_result",
          "data": {
            "text/plain": [
              "<matplotlib.axes._subplots.AxesSubplot at 0x7fea78467a20>"
            ]
          },
          "metadata": {
            "tags": []
          },
          "execution_count": 44
        },
        {
          "output_type": "display_data",
          "data": {
            "image/png": "[encoded data removed]",
            "text/plain": [
              "<Figure size 432x288 with 1 Axes>"
            ]
          },
          "metadata": {
            "tags": []
          }
        }
      ]
    },
    {
      "cell_type": "code",
      "metadata": {
        "id": "vT0iShoRTeyi",
        "colab_type": "code",
        "outputId": "ff78bbf6-47da-421f-b2ba-011318521cc6",
        "colab": {
          "base_uri": "https://localhost:8080/",
          "height": 51
        }
      },
      "source": [
        "feature_weights = clf_xgb.feature_importances_\n",
        "print(feature_weights)"
      ],
      "execution_count": 45,
      "outputs": [
        {
          "output_type": "stream",
          "text": [
            "[0.12727414 0.11681677 0.01009401 0.13859259 0.01288278 0.01164227\n",
            " 0.52407134 0.01081213 0.01257387 0.03524014]\n"
          ],
          "name": "stdout"
        }
      ]
    },
    {
      "cell_type": "code",
      "metadata": {
        "id": "_k7x-i5QVpld",
        "colab_type": "code",
        "outputId": "06e63924-4d0b-4bdd-f43e-ef97ef886647",
        "colab": {
          "base_uri": "https://localhost:8080/",
          "height": 85
        }
      },
      "source": [
        "print(X_train[0])\n",
        "print(feature_weights)"
      ],
      "execution_count": 46,
      "outputs": [
        {
          "output_type": "stream",
          "text": [
            "[-1.12927679  1.43204392 -0.94157281  0.96552744 -1.21689668 -0.1592009\n",
            "  0.09729395 -0.56934495 -0.9733362  -0.54246218]\n",
            "[0.12727414 0.11681677 0.01009401 0.13859259 0.01288278 0.01164227\n",
            " 0.52407134 0.01081213 0.01257387 0.03524014]\n"
          ],
          "name": "stdout"
        }
      ]
    },
    {
      "cell_type": "code",
      "metadata": {
        "id": "mndqt6uRWGzn",
        "colab_type": "code",
        "colab": {}
      },
      "source": [
        "for j in range(X_train.shape[0]):\n",
        "  for i in range(X_train[j].shape[0]):\n",
        "    df_train_fin = (X_train[j][i]*feature_weights[i])"
      ],
      "execution_count": 0,
      "outputs": []
    },
    {
      "cell_type": "code",
      "metadata": {
        "id": "JtWQwxF-ar8O",
        "colab_type": "code",
        "colab": {}
      },
      "source": [
        "weights = np.empty(shape=[6700, 10])\n",
        "for i in range(X_train.shape[0]):\n",
        "  for j in range(X_train.shape[1]):\n",
        "    weights[i][j] = feature_weights[j]"
      ],
      "execution_count": 0,
      "outputs": []
    },
    {
      "cell_type": "code",
      "metadata": {
        "id": "TmHJ5alSar44",
        "colab_type": "code",
        "outputId": "d35d8094-366a-4472-b383-8833db5ced4a",
        "colab": {
          "base_uri": "https://localhost:8080/",
          "height": 140
        }
      },
      "source": [
        "print(weights)"
      ],
      "execution_count": 0,
      "outputs": [
        {
          "output_type": "stream",
          "text": [
            "[[0.12727414 0.11681677 0.01009401 ... 0.01081213 0.01257387 0.03524014]\n",
            " [0.12727414 0.11681677 0.01009401 ... 0.01081213 0.01257387 0.03524014]\n",
            " [0.12727414 0.11681677 0.01009401 ... 0.01081213 0.01257387 0.03524014]\n",
            " ...\n",
            " [0.12727414 0.11681677 0.01009401 ... 0.01081213 0.01257387 0.03524014]\n",
            " [0.12727414 0.11681677 0.01009401 ... 0.01081213 0.01257387 0.03524014]\n",
            " [0.12727414 0.11681677 0.01009401 ... 0.01081213 0.01257387 0.03524014]]\n"
          ],
          "name": "stdout"
        }
      ]
    },
    {
      "cell_type": "code",
      "metadata": {
        "id": "Qfc8U_5MfvdR",
        "colab_type": "code",
        "colab": {}
      },
      "source": [
        "featured_X_train = np.multiply(X[:6700, 1:11], weights)"
      ],
      "execution_count": 0,
      "outputs": []
    },
    {
      "cell_type": "code",
      "metadata": {
        "id": "mfSuwpiygPmg",
        "colab_type": "code",
        "outputId": "f13a8973-6949-4119-f278-7285e1b379be",
        "colab": {
          "base_uri": "https://localhost:8080/",
          "height": 238
        }
      },
      "source": [
        "print(featured_X_train)"
      ],
      "execution_count": 50,
      "outputs": [
        {
          "output_type": "stream",
          "text": [
            "[[ 5.79482422e-02  3.52764498e-02  2.23488613e-02 ... -7.63865054e-04\n",
            "   1.19435784e-02  1.56008404e-02]\n",
            " [ 1.62387587e-01 -9.67338404e-02  2.95882029e-02 ... -6.85203450e-03\n",
            "  -1.47511294e-04  8.94299631e-03]\n",
            " [ 1.67069350e-01  2.27387725e-03  1.36616513e-02 ...  8.33104965e-03\n",
            "   1.19435784e-02 -2.33268191e-02]\n",
            " ...\n",
            " [-1.81181843e-01  2.00289313e-01  2.07870457e-03 ... -5.17490227e-03\n",
            "   1.19435784e-02 -1.10196052e-02]\n",
            " [-6.98999206e-02  1.67286740e-01 -6.60850544e-03 ... -2.09416180e-03\n",
            "  -2.43296907e-02 -1.84853131e-02]\n",
            " [-5.79577138e-03 -3.07286953e-02 -9.50424212e-03 ...  1.80198137e-04\n",
            "   2.40346681e-02 -8.82117836e-03]]\n"
          ],
          "name": "stdout"
        }
      ]
    },
    {
      "cell_type": "code",
      "metadata": {
        "id": "bxfMFFmmX6I5",
        "colab_type": "code",
        "colab": {}
      },
      "source": [
        ""
      ],
      "execution_count": 0,
      "outputs": []
    },
    {
      "cell_type": "code",
      "metadata": {
        "colab_type": "code",
        "id": "e1_9OaaOYEcM",
        "colab": {}
      },
      "source": [
        "sc = StandardScaler()\n",
        "featured_X_train = sc.fit_transform(featured_X_train)"
      ],
      "execution_count": 0,
      "outputs": []
    },
    {
      "cell_type": "code",
      "metadata": {
        "id": "3ujwAKW4T8lg",
        "colab_type": "code",
        "colab": {}
      },
      "source": [
        "X_test = df_test_fin.iloc[:, 1:].values"
      ],
      "execution_count": 0,
      "outputs": []
    },
    {
      "cell_type": "code",
      "metadata": {
        "id": "9W-f44ZsHnQs",
        "colab_type": "code",
        "colab": {}
      },
      "source": [
        "X_test_std = sc.fit_transform(X_test)"
      ],
      "execution_count": 0,
      "outputs": []
    },
    {
      "cell_type": "code",
      "metadata": {
        "id": "TTbcv4uUHs96",
        "colab_type": "code",
        "colab": {}
      },
      "source": [
        "X1 = X[:, 1:11]"
      ],
      "execution_count": 0,
      "outputs": []
    },
    {
      "cell_type": "code",
      "metadata": {
        "id": "ISKJF_DfUU-D",
        "colab_type": "code",
        "outputId": "9e35f31d-a60f-46bc-b961-208847a0e78f",
        "colab": {
          "base_uri": "https://localhost:8080/",
          "height": 202
        }
      },
      "source": [
        "print(X_train.shape[0])\n",
        "print(feature_weights.shape)"
      ],
      "execution_count": 0,
      "outputs": [
        {
          "output_type": "stream",
          "text": [
            "6700\n"
          ],
          "name": "stdout"
        },
        {
          "output_type": "error",
          "ename": "NameError",
          "evalue": "ignored",
          "traceback": [
            "\u001b[0;31m---------------------------------------------------------------------------\u001b[0m",
            "\u001b[0;31mNameError\u001b[0m                                 Traceback (most recent call last)",
            "\u001b[0;32m<ipython-input-15-17624bd0aea6>\u001b[0m in \u001b[0;36m<module>\u001b[0;34m()\u001b[0m\n\u001b[1;32m      1\u001b[0m \u001b[0mprint\u001b[0m\u001b[0;34m(\u001b[0m\u001b[0mX_train\u001b[0m\u001b[0;34m.\u001b[0m\u001b[0mshape\u001b[0m\u001b[0;34m[\u001b[0m\u001b[0;36m0\u001b[0m\u001b[0;34m]\u001b[0m\u001b[0;34m)\u001b[0m\u001b[0;34m\u001b[0m\u001b[0;34m\u001b[0m\u001b[0m\n\u001b[0;32m----> 2\u001b[0;31m \u001b[0mprint\u001b[0m\u001b[0;34m(\u001b[0m\u001b[0mfeature_weights\u001b[0m\u001b[0;34m.\u001b[0m\u001b[0mshape\u001b[0m\u001b[0;34m)\u001b[0m\u001b[0;34m\u001b[0m\u001b[0;34m\u001b[0m\u001b[0m\n\u001b[0m",
            "\u001b[0;31mNameError\u001b[0m: name 'feature_weights' is not defined"
          ]
        }
      ]
    },
    {
      "cell_type": "markdown",
      "metadata": {
        "id": "Se4rO_sZ0Kqa",
        "colab_type": "text"
      },
      "source": [
        "#Decision Tree Classifier"
      ]
    },
    {
      "cell_type": "code",
      "metadata": {
        "id": "ltYcjNzk0N8N",
        "colab_type": "code",
        "outputId": "8ff05b7c-79f4-4c62-9485-64230a90301c",
        "colab": {
          "base_uri": "https://localhost:8080/",
          "height": 332
        }
      },
      "source": [
        "clf_tree = DecisionTreeClassifier(criterion= 'entropy')\n",
        "clf_tree.fit(X_train, y_train, sample_weight= weights)"
      ],
      "execution_count": 0,
      "outputs": [
        {
          "output_type": "error",
          "ename": "ValueError",
          "evalue": "ignored",
          "traceback": [
            "\u001b[0;31m---------------------------------------------------------------------------\u001b[0m",
            "\u001b[0;31mValueError\u001b[0m                                Traceback (most recent call last)",
            "\u001b[0;32m<ipython-input-28-07829a8fce6b>\u001b[0m in \u001b[0;36m<module>\u001b[0;34m()\u001b[0m\n\u001b[1;32m      1\u001b[0m \u001b[0mclf_tree\u001b[0m \u001b[0;34m=\u001b[0m \u001b[0mDecisionTreeClassifier\u001b[0m\u001b[0;34m(\u001b[0m\u001b[0mcriterion\u001b[0m\u001b[0;34m=\u001b[0m \u001b[0;34m'entropy'\u001b[0m\u001b[0;34m)\u001b[0m\u001b[0;34m\u001b[0m\u001b[0;34m\u001b[0m\u001b[0m\n\u001b[0;32m----> 2\u001b[0;31m \u001b[0mclf_tree\u001b[0m\u001b[0;34m.\u001b[0m\u001b[0mfit\u001b[0m\u001b[0;34m(\u001b[0m\u001b[0mX_train\u001b[0m\u001b[0;34m,\u001b[0m \u001b[0my_train\u001b[0m\u001b[0;34m,\u001b[0m \u001b[0msample_weight\u001b[0m\u001b[0;34m=\u001b[0m \u001b[0mweights\u001b[0m\u001b[0;34m)\u001b[0m\u001b[0;34m\u001b[0m\u001b[0;34m\u001b[0m\u001b[0m\n\u001b[0m",
            "\u001b[0;32m/usr/local/lib/python3.6/dist-packages/sklearn/tree/_classes.py\u001b[0m in \u001b[0;36mfit\u001b[0;34m(self, X, y, sample_weight, check_input, X_idx_sorted)\u001b[0m\n\u001b[1;32m    875\u001b[0m             \u001b[0msample_weight\u001b[0m\u001b[0;34m=\u001b[0m\u001b[0msample_weight\u001b[0m\u001b[0;34m,\u001b[0m\u001b[0;34m\u001b[0m\u001b[0;34m\u001b[0m\u001b[0m\n\u001b[1;32m    876\u001b[0m             \u001b[0mcheck_input\u001b[0m\u001b[0;34m=\u001b[0m\u001b[0mcheck_input\u001b[0m\u001b[0;34m,\u001b[0m\u001b[0;34m\u001b[0m\u001b[0;34m\u001b[0m\u001b[0m\n\u001b[0;32m--> 877\u001b[0;31m             X_idx_sorted=X_idx_sorted)\n\u001b[0m\u001b[1;32m    878\u001b[0m         \u001b[0;32mreturn\u001b[0m \u001b[0mself\u001b[0m\u001b[0;34m\u001b[0m\u001b[0;34m\u001b[0m\u001b[0m\n\u001b[1;32m    879\u001b[0m \u001b[0;34m\u001b[0m\u001b[0m\n",
            "\u001b[0;32m/usr/local/lib/python3.6/dist-packages/sklearn/tree/_classes.py\u001b[0m in \u001b[0;36mfit\u001b[0;34m(self, X, y, sample_weight, check_input, X_idx_sorted)\u001b[0m\n\u001b[1;32m    278\u001b[0m \u001b[0;34m\u001b[0m\u001b[0m\n\u001b[1;32m    279\u001b[0m         \u001b[0;32mif\u001b[0m \u001b[0msample_weight\u001b[0m \u001b[0;32mis\u001b[0m \u001b[0;32mnot\u001b[0m \u001b[0;32mNone\u001b[0m\u001b[0;34m:\u001b[0m\u001b[0;34m\u001b[0m\u001b[0;34m\u001b[0m\u001b[0m\n\u001b[0;32m--> 280\u001b[0;31m             \u001b[0msample_weight\u001b[0m \u001b[0;34m=\u001b[0m \u001b[0m_check_sample_weight\u001b[0m\u001b[0;34m(\u001b[0m\u001b[0msample_weight\u001b[0m\u001b[0;34m,\u001b[0m \u001b[0mX\u001b[0m\u001b[0;34m,\u001b[0m \u001b[0mDOUBLE\u001b[0m\u001b[0;34m)\u001b[0m\u001b[0;34m\u001b[0m\u001b[0;34m\u001b[0m\u001b[0m\n\u001b[0m\u001b[1;32m    281\u001b[0m \u001b[0;34m\u001b[0m\u001b[0m\n\u001b[1;32m    282\u001b[0m         \u001b[0;32mif\u001b[0m \u001b[0mexpanded_class_weight\u001b[0m \u001b[0;32mis\u001b[0m \u001b[0;32mnot\u001b[0m \u001b[0;32mNone\u001b[0m\u001b[0;34m:\u001b[0m\u001b[0;34m\u001b[0m\u001b[0;34m\u001b[0m\u001b[0m\n",
            "\u001b[0;32m/usr/local/lib/python3.6/dist-packages/sklearn/utils/validation.py\u001b[0m in \u001b[0;36m_check_sample_weight\u001b[0;34m(sample_weight, X, dtype)\u001b[0m\n\u001b[1;32m   1247\u001b[0m         )\n\u001b[1;32m   1248\u001b[0m         \u001b[0;32mif\u001b[0m \u001b[0msample_weight\u001b[0m\u001b[0;34m.\u001b[0m\u001b[0mndim\u001b[0m \u001b[0;34m!=\u001b[0m \u001b[0;36m1\u001b[0m\u001b[0;34m:\u001b[0m\u001b[0;34m\u001b[0m\u001b[0;34m\u001b[0m\u001b[0m\n\u001b[0;32m-> 1249\u001b[0;31m             \u001b[0;32mraise\u001b[0m \u001b[0mValueError\u001b[0m\u001b[0;34m(\u001b[0m\u001b[0;34m\"Sample weights must be 1D array or scalar\"\u001b[0m\u001b[0;34m)\u001b[0m\u001b[0;34m\u001b[0m\u001b[0;34m\u001b[0m\u001b[0m\n\u001b[0m\u001b[1;32m   1250\u001b[0m \u001b[0;34m\u001b[0m\u001b[0m\n\u001b[1;32m   1251\u001b[0m         \u001b[0;32mif\u001b[0m \u001b[0msample_weight\u001b[0m\u001b[0;34m.\u001b[0m\u001b[0mshape\u001b[0m \u001b[0;34m!=\u001b[0m \u001b[0;34m(\u001b[0m\u001b[0mn_samples\u001b[0m\u001b[0;34m,\u001b[0m\u001b[0;34m)\u001b[0m\u001b[0;34m:\u001b[0m\u001b[0;34m\u001b[0m\u001b[0;34m\u001b[0m\u001b[0m\n",
            "\u001b[0;31mValueError\u001b[0m: Sample weights must be 1D array or scalar"
          ]
        }
      ]
    },
    {
      "cell_type": "code",
      "metadata": {
        "id": "tD364s7v0rhS",
        "colab_type": "code",
        "colab": {}
      },
      "source": [
        "y_pred_tree = clf_tree.predict(X_train_val)"
      ],
      "execution_count": 0,
      "outputs": []
    },
    {
      "cell_type": "code",
      "metadata": {
        "id": "lMcPh92o02lW",
        "colab_type": "code",
        "outputId": "cf4727f0-b071-40e1-a3eb-2c7695b780df",
        "colab": {
          "base_uri": "https://localhost:8080/",
          "height": 34
        }
      },
      "source": [
        "print(f1_score(y_true= y_train_val, y_pred= y_pred_tree, average= 'weighted'))"
      ],
      "execution_count": 0,
      "outputs": [
        {
          "output_type": "stream",
          "text": [
            "0.9252528818931726\n"
          ],
          "name": "stdout"
        }
      ]
    },
    {
      "cell_type": "markdown",
      "metadata": {
        "id": "Z97jZMhwPB9X",
        "colab_type": "text"
      },
      "source": [
        "#Random Forest Classifier"
      ]
    },
    {
      "cell_type": "code",
      "metadata": {
        "id": "BGNTmHH3PHZv",
        "colab_type": "code",
        "outputId": "561a2b45-6aa6-48c5-9fae-dda38087873d",
        "colab": {
          "base_uri": "https://localhost:8080/",
          "height": 153
        }
      },
      "source": [
        "clf_forest = RandomForestClassifier(random_state=42, criterion='entropy')\n",
        "clf_forest.fit(X_train, y_train)"
      ],
      "execution_count": 0,
      "outputs": [
        {
          "output_type": "execute_result",
          "data": {
            "text/plain": [
              "RandomForestClassifier(bootstrap=True, ccp_alpha=0.0, class_weight=None,\n",
              "                       criterion='entropy', max_depth=None, max_features='auto',\n",
              "                       max_leaf_nodes=None, max_samples=None,\n",
              "                       min_impurity_decrease=0.0, min_impurity_split=None,\n",
              "                       min_samples_leaf=1, min_samples_split=2,\n",
              "                       min_weight_fraction_leaf=0.0, n_estimators=100,\n",
              "                       n_jobs=None, oob_score=False, random_state=42, verbose=0,\n",
              "                       warm_start=False)"
            ]
          },
          "metadata": {
            "tags": []
          },
          "execution_count": 55
        }
      ]
    },
    {
      "cell_type": "code",
      "metadata": {
        "id": "gUhs5YLYPHW3",
        "colab_type": "code",
        "colab": {}
      },
      "source": [
        "y_pred_forest = clf_forest.predict(X_train_val)"
      ],
      "execution_count": 0,
      "outputs": []
    },
    {
      "cell_type": "code",
      "metadata": {
        "id": "Wp0i9XByP8JQ",
        "colab_type": "code",
        "outputId": "7f73227d-c476-40f4-971c-d6558f2a4992",
        "colab": {
          "base_uri": "https://localhost:8080/",
          "height": 34
        }
      },
      "source": [
        "print(f1_score(y_true= y_train_val, y_pred= y_pred_forest, average= 'weighted'))"
      ],
      "execution_count": 0,
      "outputs": [
        {
          "output_type": "stream",
          "text": [
            "0.9251362216900786\n"
          ],
          "name": "stdout"
        }
      ]
    },
    {
      "cell_type": "markdown",
      "metadata": {
        "id": "EvYqGCvcTyuo",
        "colab_type": "text"
      },
      "source": [
        "#Neural Network"
      ]
    },
    {
      "cell_type": "code",
      "metadata": {
        "id": "wzdNg1TOT3hF",
        "colab_type": "code",
        "outputId": "6e082965-4ebb-4de1-ac27-8e5c35fceafc",
        "colab": {
          "base_uri": "https://localhost:8080/",
          "height": 275
        }
      },
      "source": [
        "clf_nn = MLPClassifier(solver='lbfgs', alpha=1e-5, hidden_layer_sizes=(10, ), random_state=1, learning_rate='adaptive', activation = 'relu')\n",
        "clf_nn.fit(featured_X_train, y_train)"
      ],
      "execution_count": 54,
      "outputs": [
        {
          "output_type": "stream",
          "text": [
            "/usr/local/lib/python3.6/dist-packages/sklearn/neural_network/_multilayer_perceptron.py:470: ConvergenceWarning: lbfgs failed to converge (status=1):\n",
            "STOP: TOTAL NO. of ITERATIONS REACHED LIMIT.\n",
            "\n",
            "Increase the number of iterations (max_iter) or scale the data as shown in:\n",
            "    https://scikit-learn.org/stable/modules/preprocessing.html\n",
            "  self.n_iter_ = _check_optimize_result(\"lbfgs\", opt_res, self.max_iter)\n"
          ],
          "name": "stderr"
        },
        {
          "output_type": "execute_result",
          "data": {
            "text/plain": [
              "MLPClassifier(activation='relu', alpha=1e-05, batch_size='auto', beta_1=0.9,\n",
              "              beta_2=0.999, early_stopping=False, epsilon=1e-08,\n",
              "              hidden_layer_sizes=(10,), learning_rate='adaptive',\n",
              "              learning_rate_init=0.001, max_fun=15000, max_iter=200,\n",
              "              momentum=0.9, n_iter_no_change=10, nesterovs_momentum=True,\n",
              "              power_t=0.5, random_state=1, shuffle=True, solver='lbfgs',\n",
              "              tol=0.0001, validation_fraction=0.1, verbose=False,\n",
              "              warm_start=False)"
            ]
          },
          "metadata": {
            "tags": []
          },
          "execution_count": 54
        }
      ]
    },
    {
      "cell_type": "code",
      "metadata": {
        "id": "UgaYRHAGT4f7",
        "colab_type": "code",
        "colab": {}
      },
      "source": [
        "y_pred_val_nn = clf_nn.predict(X_train_val)"
      ],
      "execution_count": 0,
      "outputs": []
    },
    {
      "cell_type": "code",
      "metadata": {
        "id": "7HkCOAGeVMOg",
        "colab_type": "code",
        "outputId": "aa4a71fe-2562-442e-a9cb-d94f69d118c3",
        "colab": {
          "base_uri": "https://localhost:8080/",
          "height": 34
        }
      },
      "source": [
        "print(f1_score(y_true= y_train_val, y_pred= y_pred_val_nn, average= 'weighted'))"
      ],
      "execution_count": 56,
      "outputs": [
        {
          "output_type": "stream",
          "text": [
            "0.24498636191325915\n"
          ],
          "name": "stdout"
        }
      ]
    },
    {
      "cell_type": "code",
      "metadata": {
        "id": "cVDCkUvTdcg0",
        "colab_type": "code",
        "colab": {}
      },
      "source": [
        ""
      ],
      "execution_count": 0,
      "outputs": []
    },
    {
      "cell_type": "code",
      "metadata": {
        "id": "g6m8SPZTdcbq",
        "colab_type": "code",
        "colab": {}
      },
      "source": [
        ""
      ],
      "execution_count": 0,
      "outputs": []
    },
    {
      "cell_type": "markdown",
      "metadata": {
        "id": "xFStpLpRIwV3",
        "colab_type": "text"
      },
      "source": [
        "#Output"
      ]
    },
    {
      "cell_type": "code",
      "metadata": {
        "id": "HD0IsQPt1BAV",
        "colab_type": "code",
        "colab": {}
      },
      "source": [
        "y_pred = clf_nn.predict(X_test_std)"
      ],
      "execution_count": 0,
      "outputs": []
    },
    {
      "cell_type": "code",
      "metadata": {
        "id": "wPImgnolI690",
        "colab_type": "code",
        "colab": {}
      },
      "source": [
        "output = {\n",
        "    'Accident_ID': df_test_fin.iloc[:, 0].values,\n",
        "    'Severity' : y_pred\n",
        "}\n",
        "df = DataFrame(output, columns=['Accident_ID', 'Severity'])"
      ],
      "execution_count": 0,
      "outputs": []
    },
    {
      "cell_type": "code",
      "metadata": {
        "id": "2fqzC4JKI8ic",
        "colab_type": "code",
        "outputId": "48b6324c-c457-4b4b-c28c-98467cd4d269",
        "colab": {
          "base_uri": "https://localhost:8080/",
          "height": 255
        }
      },
      "source": [
        "print(df)"
      ],
      "execution_count": 0,
      "outputs": [
        {
          "output_type": "stream",
          "text": [
            "      Accident_ID                                 Severity\n",
            "0               1                Highly_Fatal_And_Damaging\n",
            "1              10        Significant_Damage_And_Fatalities\n",
            "2              14  Significant_Damage_And_Serious_Injuries\n",
            "3              17                Highly_Fatal_And_Damaging\n",
            "4              21        Significant_Damage_And_Fatalities\n",
            "...           ...                                      ...\n",
            "2495        12484                Highly_Fatal_And_Damaging\n",
            "2496        12487  Significant_Damage_And_Serious_Injuries\n",
            "2497        12488  Significant_Damage_And_Serious_Injuries\n",
            "2498        12491  Significant_Damage_And_Serious_Injuries\n",
            "2499        12493                Highly_Fatal_And_Damaging\n",
            "\n",
            "[2500 rows x 2 columns]\n"
          ],
          "name": "stdout"
        }
      ]
    },
    {
      "cell_type": "code",
      "metadata": {
        "id": "VZnoa4qkJlj7",
        "colab_type": "code",
        "colab": {}
      },
      "source": [
        "df.to_csv('/content/drive/My Drive/Colab Notebooks/How severe can an airplane accident Competition/output.csv', index = False)"
      ],
      "execution_count": 0,
      "outputs": []
    },
    {
      "cell_type": "code",
      "metadata": {
        "id": "48DfLeoEJ2j1",
        "colab_type": "code",
        "colab": {}
      },
      "source": [
        ""
      ],
      "execution_count": 0,
      "outputs": []
    }
  ]
}